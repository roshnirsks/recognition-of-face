{
 "cells": [
  {
   "cell_type": "code",
   "execution_count": 2,
   "metadata": {},
   "outputs": [],
   "source": [
    "import cv2\n",
    "import numpy as np\n",
    "import os\n",
    "\n",
    "\n"
   ]
  },
  {
   "cell_type": "code",
   "execution_count": 3,
   "metadata": {},
   "outputs": [],
   "source": [
    "#using knn"
   ]
  },
  {
   "cell_type": "code",
   "execution_count": 4,
   "metadata": {},
   "outputs": [],
   "source": [
    "def distance(v1, v2):\n",
    "   \n",
    "    return np.sqrt(((v1-v2)**2).sum())\n",
    "def knn(train, test, k=5):\n",
    "    dist = []\n",
    "    for i in range(train.shape[0]):\n",
    "        \n",
    "        ix = train[i, :-1]\n",
    "        iy = train[i, -1]\n",
    "       \n",
    "        d = distance(test, ix)\n",
    "        dist.append([d, iy])\n",
    "  \n",
    "    dk = sorted(dist, key=lambda x: x[0])[:k]\n",
    "   \n",
    "    labels = np.array(dk)[:, -1]\n",
    "    output = np.unique(labels, return_counts=True)\n",
    "   \n",
    "    index = np.argmax(output[1])\n",
    "    return output[0][index]\n",
    "\n",
    "\n",
    "\n",
    "\n"
   ]
  },
  {
   "cell_type": "code",
   "execution_count": 5,
   "metadata": {},
   "outputs": [],
   "source": [
    "#initilised the camera\n",
    "cap = cv2.VideoCapture(0)"
   ]
  },
  {
   "cell_type": "code",
   "execution_count": 6,
   "metadata": {},
   "outputs": [],
   "source": [
    "face_cascade = cv2.CascadeClassifier(\"C:/Users/Chanchal/Desktop/github/recog of face/Cascade/haarcascade_frontalface_alt.xml\")\n",
    "skip = 0\n",
    "dataset_path = \"C:/Users/Chanchal/Desktop/github/recog of face\"\n",
    "face_data = []\n",
    "labels = []\n",
    "class_id = 0 # Labels \n",
    "names = {} #Mapping"
   ]
  },
  {
   "cell_type": "code",
   "execution_count": 7,
   "metadata": {},
   "outputs": [],
   "source": [
    "for fx in os.listdir(dataset_path):\n",
    "    if fx.endswith('.npy'):\n",
    "        names[class_id] = fx[:-4]\n",
    "        print(\"Loaded\"+fx)\n",
    "        data_item = np.load(dataset_path+fx)\n",
    "        face_data.append(data_item)"
   ]
  },
  {
   "cell_type": "code",
   "execution_count": null,
   "metadata": {},
   "outputs": [],
   "source": []
  },
  {
   "cell_type": "code",
   "execution_count": null,
   "metadata": {},
   "outputs": [],
   "source": []
  }
 ],
 "metadata": {
  "kernelspec": {
   "display_name": "Python 3",
   "language": "python",
   "name": "python3"
  },
  "language_info": {
   "codemirror_mode": {
    "name": "ipython",
    "version": 3
   },
   "file_extension": ".py",
   "mimetype": "text/x-python",
   "name": "python",
   "nbconvert_exporter": "python",
   "pygments_lexer": "ipython3",
   "version": "3.6.5"
  }
 },
 "nbformat": 4,
 "nbformat_minor": 2
}
