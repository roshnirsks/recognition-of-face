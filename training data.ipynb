{
 "cells": [
  {
   "cell_type": "code",
   "execution_count": null,
   "metadata": {},
   "outputs": [],
   "source": [
    "import cv2\n",
    "import numpy as np\n",
    "import os"
   ]
  },
  {
   "cell_type": "code",
   "execution_count": null,
   "metadata": {},
   "outputs": [],
   "source": [
    "cap = cv2.VideoCapture(0)\n",
    "face_cascade = cv2.CascadeClassifier(\"C:/Users/Chanchal/Desktop/github/recog of face/Cascade/haarcascade_frontalface_alt.xml\")\n",
    "skip = 0\n",
    "face_data = []\n",
    "dataset_path = \"C:/Users/Chanchal/Desktop/github/recog of face\"\n",
    "offset = 10\n",
    "\n",
    "file_name = input(\"person's name:  \")\n",
    "while True:\n",
    "    ret,frame = cap.read()\n",
    "    \n",
    "    if(ret == False):\n",
    "        continue\n",
    "        \n",
    "    gray_frame = cv2.cvtColor(frame,cv2.COLOR_BGR2GRAY)    \n",
    "    faces = face_cascade.detectMultiScale(frame,1.3,5)\n",
    "    faces = sorted(faces,key=lambda f:f[2]*f[3])\n",
    "    for face in faces[-1:]:\n",
    "        x,y,w,h =  face \n",
    "        cv2.rectangle(frame,(x,y),(x+w,y+h),(255,0,0),2)\n",
    "    \n",
    "   \n",
    "    face_section = frame[y-offset:y+h+offset,x-offset:x+w+offset]\n",
    "    face_section = cv2.resize(face_section,(100,100))\n",
    "    \n",
    "    skip += 1\n",
    "    if(skip%10 == 0):\n",
    "        face_data.append(face_section)\n",
    "        print(len(face_data))\n",
    "        \n",
    "    \n",
    "    cv2.imshow(\"Cropped\",face_section) \n",
    "    cv2.imshow(\"VIDEO FRAME\",frame)\n",
    "        \n",
    "    keypressed = cv2.waitKey(1) & 0xFF\n",
    "    if(keypressed == ord('q')):\n",
    "        break\n",
    "        \n",
    "\n",
    "\n"
   ]
  },
  {
   "cell_type": "code",
   "execution_count": null,
   "metadata": {},
   "outputs": [],
   "source": [
    "#face data into numpy array\n",
    "face_data = np.array(face_data)\n",
    "print(face_data.shape)\n",
    "face_data = face_data.reshape((face_data.shape[0],-1))\n",
    "print(face_data.shape)\n"
   ]
  },
  {
   "cell_type": "code",
   "execution_count": null,
   "metadata": {},
   "outputs": [],
   "source": [
    "#save data to the file\n",
    "np.save(dataset_path + file_name + '.npy',face_data)\n",
    "print(\"data successfully saved at \" + dataset_path+file_name+'.npy')\n"
   ]
  },
  {
   "cell_type": "code",
   "execution_count": null,
   "metadata": {},
   "outputs": [],
   "source": []
  }
 ],
 "metadata": {
  "kernelspec": {
   "display_name": "Python 3",
   "language": "python",
   "name": "python3"
  },
  "language_info": {
   "codemirror_mode": {
    "name": "ipython",
    "version": 3
   },
   "file_extension": ".py",
   "mimetype": "text/x-python",
   "name": "python",
   "nbconvert_exporter": "python",
   "pygments_lexer": "ipython3",
   "version": "3.6.5"
  }
 },
 "nbformat": 4,
 "nbformat_minor": 2
}
